{
  "nbformat": 4,
  "nbformat_minor": 0,
  "metadata": {
    "colab": {
      "provenance": []
    },
    "kernelspec": {
      "name": "python3",
      "display_name": "Python 3"
    },
    "language_info": {
      "name": "python"
    }
  },
  "cells": [
    {
      "cell_type": "code",
      "source": [
        "A1: Ejercicios en Python CARLOS ADRIAN GUILLEN BENITEZ 2077519 N4-N6"
      ],
      "metadata": {
        "id": "ElhYO1n1gvGZ"
      },
      "execution_count": null,
      "outputs": []
    },
    {
      "cell_type": "code",
      "execution_count": 9,
      "metadata": {
        "colab": {
          "base_uri": "https://localhost:8080/"
        },
        "id": "5RkQhcf6agCj",
        "outputId": "642eb602-99f3-4db4-d4c4-bc3e73445816"
      },
      "outputs": [
        {
          "output_type": "stream",
          "name": "stdout",
          "text": [
            "CARLOS ADRIAN GUILLEN BENITEZ 2077519\n",
            "Ingrese el primer número: 90\n",
            "Ingrese el segundo número: 10\n",
            "La suma de 90.0 y 10.0 es: 100.0\n"
          ]
        }
      ],
      "source": [
        "print(\"CARLOS ADRIAN GUILLEN BENITEZ 2077519\")\n",
        "numero1 = float(input(\"Ingrese el primer número: \"))\n",
        "numero2 = float(input(\"Ingrese el segundo número: \"))\n",
        "suma = numero1 + numero2\n",
        "print(\"La suma de\", numero1, \"y\", numero2, \"es:\", suma)"
      ]
    },
    {
      "cell_type": "code",
      "source": [
        "print(\"CARLOS ADRIAN GUILLEN BENITEZ 2077519\")\n",
        "numero = int(input(\"Ingrese un número entero: \"))\n",
        "factorial = 1\n",
        "for i in range(1, numero + 1):\n",
        "    factorial *= i\n",
        "print(\"El factorial de\", numero, \"es:\", factorial)\n"
      ],
      "metadata": {
        "colab": {
          "base_uri": "https://localhost:8080/"
        },
        "id": "AqGUVEgYbffA",
        "outputId": "7092d997-cf64-48c3-bf89-45be648c4653"
      },
      "execution_count": 7,
      "outputs": [
        {
          "output_type": "stream",
          "name": "stdout",
          "text": [
            "CARLOS ADRIAN GUILLEN BENITEZ 2077519\n",
            "Ingrese un número entero: 5\n",
            "El factorial de 5 es: 120\n"
          ]
        }
      ]
    },
    {
      "cell_type": "code",
      "source": [
        "print(\"CARLOS ADRIAN GUILLEN BENITEZ 2077519\")\n",
        "numeros = input(\"Ingrese una lista de números separados por espacios: \").split()\n",
        "numeros = [int(numero) for numero in numeros]\n",
        "objetivo = int(input(\"Ingrese el número objetivo: \"))\n",
        "indice = None\n",
        "for i in range(len(numeros)):\n",
        "    if numeros[i] == objetivo:\n",
        "        indice = i\n",
        "        break\n",
        "if indice is not None:\n",
        "    print(\"El número objetivo\", objetivo, \"se encuentra en la posición\", indice)\n",
        "else:\n",
        "    print(\"El número objetivo\", objetivo, \"no se encuentra en la lista\")\n"
      ],
      "metadata": {
        "colab": {
          "base_uri": "https://localhost:8080/"
        },
        "id": "E_m6DJVHcwRV",
        "outputId": "3abb8fbc-0ff5-4446-a8b6-af21243dce87"
      },
      "execution_count": 12,
      "outputs": [
        {
          "output_type": "stream",
          "name": "stdout",
          "text": [
            "CARLOS ADRIAN GUILLEN BENITEZ 2077519\n",
            "Ingrese una lista de números separados por espacios: 2 4 6 8 10\n",
            "Ingrese el número objetivo: 10\n",
            "El número objetivo 10 se encuentra en la posición 4\n"
          ]
        }
      ]
    },
    {
      "cell_type": "code",
      "source": [
        "print(\"CARLOS ADRIAN GUILLEN BENITEZ 2077519\")\n",
        "cadena = input(\"Ingrese una cadena de texto: \")\n",
        "cadena = cadena.replace(\" \", \"\").lower()\n",
        "es_palindromo = cadena == cadena[::-1]\n",
        "if es_palindromo:\n",
        "    print(\"La cadena es un palíndromo\")\n",
        "else:\n",
        "    print(\"La cadena no es un palíndromo\")\n"
      ],
      "metadata": {
        "colab": {
          "base_uri": "https://localhost:8080/"
        },
        "id": "nSr6XNzFdLab",
        "outputId": "b11e045b-5f38-4d97-a383-5e4e8e2e570b"
      },
      "execution_count": 17,
      "outputs": [
        {
          "output_type": "stream",
          "name": "stdout",
          "text": [
            "CARLOS ADRIAN GUILLEN BENITEZ 2077519\n",
            "Ingrese una cadena de texto: oso\n",
            "La cadena es un palíndromo\n"
          ]
        }
      ]
    }
  ]
}